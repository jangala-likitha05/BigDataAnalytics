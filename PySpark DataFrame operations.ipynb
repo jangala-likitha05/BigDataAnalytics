{
 "cells": [
  {
   "cell_type": "markdown",
   "id": "e503f93a-dc2b-4fed-b5ae-1585a47d723d",
   "metadata": {},
   "source": [
    "Create a DataFrame in PySpark from a CSV file (students.csv) and apply basic operations such as viewing data, printing the schema, selecting specific columns, filtering data, and sorting the dataset."
   ]
  },
  {
   "cell_type": "code",
   "execution_count": null,
   "id": "313e4a6b-3156-4df7-a168-423ba1c063be",
   "metadata": {},
   "outputs": [],
   "source": [
    "Dataset Overview\n",
    "\n",
    "The dataset is a CSV file named students.csv\n",
    "\n",
    "It contains the following fields:\n",
    "\n",
    "    ID – Unique identifier of the student\n",
    "    \n",
    "    Name – Student’s name\n",
    "    \n",
    "    Age – Age of the student\n",
    "    \n",
    "    Gender – Gender (M/F)\n",
    "    \n",
    "    Math – Marks scored in Mathematics\n",
    "    \n",
    "    Science – Marks scored in Science\n",
    "    \n",
    "    English – Marks scored in English"
   ]
  },
  {
   "cell_type": "code",
   "execution_count": 1,
   "id": "240daeab-49da-49e1-b0d3-4f1258a757aa",
   "metadata": {},
   "outputs": [
    {
     "data": {
      "text/html": [
       "\n",
       "        <div>\n",
       "            <p><b>SparkContext</b></p>\n",
       "\n",
       "            <p><a href=\"http://LAPTOP-H4K3I3AN:4043\">Spark UI</a></p>\n",
       "\n",
       "            <dl>\n",
       "              <dt>Version</dt>\n",
       "                <dd><code>v4.0.1</code></dd>\n",
       "              <dt>Master</dt>\n",
       "                <dd><code>local[*]</code></dd>\n",
       "              <dt>AppName</dt>\n",
       "                <dd><code>PySparkShell</code></dd>\n",
       "            </dl>\n",
       "        </div>\n",
       "        "
      ],
      "text/plain": [
       "<SparkContext master=local[*] appName=PySparkShell>"
      ]
     },
     "execution_count": 1,
     "metadata": {},
     "output_type": "execute_result"
    }
   ],
   "source": [
    "sc"
   ]
  },
  {
   "cell_type": "code",
   "execution_count": 2,
   "id": "1b8d414b-6d5f-48e0-aebb-7695098b2ffe",
   "metadata": {},
   "outputs": [],
   "source": [
    "from pyspark.sql import SparkSession\n",
    "# Step 1: Initialize Spark Session\n",
    "spark = SparkSession.builder.appName(\"BasicDataFrameOps\").getOrCreate()\n"
   ]
  },
  {
   "cell_type": "code",
   "execution_count": 3,
   "id": "9a850d81-5436-4fa4-b4fa-2767a9d185b6",
   "metadata": {},
   "outputs": [],
   "source": [
    "# Step 2: Read CSV file into DataFrame\n",
    "df = spark.read.csv(\"C:\\\\Users\\\\user\\\\Downloads\\\\students.csv\", header=True, inferSchema=True)\n"
   ]
  },
  {
   "cell_type": "code",
   "execution_count": 4,
   "id": "7026ee5a-12ae-4ae4-abcf-1ec3293bb564",
   "metadata": {},
   "outputs": [
    {
     "name": "stdout",
     "output_type": "stream",
     "text": [
      "=== First 5 rows ===\n",
      "+---+-------+---+------+----+-------+-------+\n",
      "| id|   name|age|gender|math|science|english|\n",
      "+---+-------+---+------+----+-------+-------+\n",
      "|  1|  Alice| 20|     F|  66|     92|     44|\n",
      "|  2|    Bob| 20|     M|  82|     52|     77|\n",
      "|  3|Charlie| 22|     F|  43|     57|     76|\n",
      "|  4|  David| 19|     M|  95|     69|     46|\n",
      "|  5|    Eva| 19|     F|  62|     44|     96|\n",
      "+---+-------+---+------+----+-------+-------+\n",
      "only showing top 5 rows\n"
     ]
    }
   ],
   "source": [
    "# === Basic Operations ===\n",
    "# 1. View first 5 rows\n",
    "print(\"=== First 5 rows ===\")\n",
    "df.show(5)\n"
   ]
  },
  {
   "cell_type": "code",
   "execution_count": 5,
   "id": "d3bc1b1e-684f-4700-82b7-560e77787c58",
   "metadata": {},
   "outputs": [
    {
     "name": "stdout",
     "output_type": "stream",
     "text": [
      "=== Schema ===\n",
      "root\n",
      " |-- id: integer (nullable = true)\n",
      " |-- name: string (nullable = true)\n",
      " |-- age: integer (nullable = true)\n",
      " |-- gender: string (nullable = true)\n",
      " |-- math: integer (nullable = true)\n",
      " |-- science: integer (nullable = true)\n",
      " |-- english: integer (nullable = true)\n",
      "\n"
     ]
    }
   ],
   "source": [
    "# 2. Print schema (structure of DataFrame)\n",
    "print(\"=== Schema ===\")\n",
    "df.printSchema()"
   ]
  },
  {
   "cell_type": "code",
   "execution_count": 6,
   "id": "e3de1de0-59a3-433a-b7cd-dd21763ebb97",
   "metadata": {},
   "outputs": [
    {
     "name": "stdout",
     "output_type": "stream",
     "text": [
      "=== Select name and math columns ===\n",
      "+-------+----+\n",
      "|   name|math|\n",
      "+-------+----+\n",
      "|  Alice|  66|\n",
      "|    Bob|  82|\n",
      "|Charlie|  43|\n",
      "|  David|  95|\n",
      "|    Eva|  62|\n",
      "+-------+----+\n",
      "only showing top 5 rows\n"
     ]
    }
   ],
   "source": [
    "# 3. Select specific columns: name and math\n",
    "print(\"=== Select name and math columns ===\")\n",
    "df.select(\"name\", \"math\").show(5)"
   ]
  },
  {
   "cell_type": "code",
   "execution_count": 7,
   "id": "c44351fc-8198-4c5d-8928-aaa3c81cb437",
   "metadata": {},
   "outputs": [
    {
     "name": "stdout",
     "output_type": "stream",
     "text": [
      "=== Students with math >= 80 ===\n",
      "+---+------+---+------+----+-------+-------+\n",
      "| id|  name|age|gender|math|science|english|\n",
      "+---+------+---+------+----+-------+-------+\n",
      "|  2|   Bob| 20|     M|  82|     52|     77|\n",
      "|  4| David| 19|     M|  95|     69|     46|\n",
      "| 11| Kathy| 25|     M|  85|     71|     89|\n",
      "| 12|   Leo| 24|     M|  97|     84|     83|\n",
      "| 15|Olivia| 18|     M|  87|     90|     87|\n",
      "+---+------+---+------+----+-------+-------+\n",
      "only showing top 5 rows\n"
     ]
    }
   ],
   "source": [
    "# 4. Filter students with math >= 80\n",
    "print(\"=== Students with math >= 80 ===\")\n",
    "df.filter(df.math >= 80).show(5)"
   ]
  },
  {
   "cell_type": "code",
   "execution_count": 8,
   "id": "f9a35530-2131-468a-9a2a-483e096ec45c",
   "metadata": {},
   "outputs": [
    {
     "name": "stdout",
     "output_type": "stream",
     "text": [
      "=== Sorted by science (desc) ===\n",
      "+---+------+---+------+----+-------+-------+\n",
      "| id|  name|age|gender|math|science|english|\n",
      "+---+------+---+------+----+-------+-------+\n",
      "| 27| Aaron| 25|     F|  81|     99|     44|\n",
      "| 32| Fiona| 22|     F|  48|     96|     48|\n",
      "| 33|George| 22|     M|  66|     95|     84|\n",
      "| 29|  Carl| 22|     F|  53|     92|     52|\n",
      "|  1| Alice| 20|     F|  66|     92|     44|\n",
      "+---+------+---+------+----+-------+-------+\n",
      "only showing top 5 rows\n"
     ]
    }
   ],
   "source": [
    "# 5. Sort students by science marks (descending)\n",
    "print(\"=== Sorted by science (desc) ===\")\n",
    "df.orderBy(df.science.desc()).show(5)"
   ]
  },
  {
   "cell_type": "code",
   "execution_count": 9,
   "id": "403dec24-3d0d-4eec-8ab2-3c5e6f39d5ea",
   "metadata": {},
   "outputs": [
    {
     "name": "stdout",
     "output_type": "stream",
     "text": [
      "Total rows in dataset: 50\n"
     ]
    }
   ],
   "source": [
    "# 6. Count total rows\n",
    "print(\"Total rows in dataset:\", df.count())"
   ]
  },
  {
   "cell_type": "markdown",
   "id": "a56de6d3-0f67-4dd3-bdde-1d7472dfd720",
   "metadata": {},
   "source": [
    "Conclusion:\n",
    "The program effectively implemented basic PySpark DataFrame operations. It successfully read the data, displayed the first 5 rows and the DataFrame's schema, selected the 'name' and 'math' columns, filtered for students with math scores ≥80, sorted the students by 'science' marks in descending order, and confirmed the total row count (50) and column names."
   ]
  }
 ],
 "metadata": {
  "kernelspec": {
   "display_name": "Python 3 (ipykernel)",
   "language": "python",
   "name": "python3"
  },
  "language_info": {
   "codemirror_mode": {
    "name": "ipython",
    "version": 3
   },
   "file_extension": ".py",
   "mimetype": "text/x-python",
   "name": "python",
   "nbconvert_exporter": "python",
   "pygments_lexer": "ipython3",
   "version": "3.10.9"
  }
 },
 "nbformat": 4,
 "nbformat_minor": 5
}
