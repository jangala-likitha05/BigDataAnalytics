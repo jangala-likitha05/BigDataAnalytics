{
 "cells": [
  {
   "cell_type": "markdown",
   "id": "72387ba4-2f39-4a97-b77e-e9c1aa214660",
   "metadata": {},
   "source": [
    "To perform simple data transformation using PySpark RDD, specifically filtering even numbers from a randomly generated list of integers."
   ]
  },
  {
   "cell_type": "code",
   "execution_count": 7,
   "id": "4f94381a-0f8c-4585-861b-d02e900cf699",
   "metadata": {},
   "outputs": [
    {
     "data": {
      "text/html": [
       "\n",
       "        <div>\n",
       "            <p><b>SparkContext</b></p>\n",
       "\n",
       "            <p><a href=\"http://LAPTOP-H4K3I3AN:4040\">Spark UI</a></p>\n",
       "\n",
       "            <dl>\n",
       "              <dt>Version</dt>\n",
       "                <dd><code>v4.0.1</code></dd>\n",
       "              <dt>Master</dt>\n",
       "                <dd><code>local[*]</code></dd>\n",
       "              <dt>AppName</dt>\n",
       "                <dd><code>PySparkShell</code></dd>\n",
       "            </dl>\n",
       "        </div>\n",
       "        "
      ],
      "text/plain": [
       "<SparkContext master=local[*] appName=PySparkShell>"
      ]
     },
     "execution_count": 7,
     "metadata": {},
     "output_type": "execute_result"
    }
   ],
   "source": [
    "sc"
   ]
  },
  {
   "cell_type": "code",
   "execution_count": 8,
   "id": "5d02c658-9804-4111-9bb3-04fd0f90b7ae",
   "metadata": {},
   "outputs": [],
   "source": [
    "import random\n"
   ]
  },
  {
   "cell_type": "code",
   "execution_count": 9,
   "id": "7eb48053-39d4-4eeb-9a7f-219a6ccdf287",
   "metadata": {},
   "outputs": [
    {
     "name": "stdout",
     "output_type": "stream",
     "text": [
      "Original List:\n",
      "[325, 78, 540, 727, 53, 281, 959, 442, 326, 828, 563, 677, 173, 310, 530, 208, 796, 65, 355, 810, 147, 929, 646, 646, 493, 724, 704, 475, 415, 744, 376, 543, 435, 738, 412, 683, 317, 997, 292, 354, 962, 267, 766, 302, 200, 670, 348, 735, 165, 116, 414, 491, 710, 916, 217, 59, 6, 19, 534, 128, 668, 406, 730, 753, 12, 745, 32, 728, 490, 477, 998, 351, 515, 824, 324, 65, 717, 895, 958, 365, 802, 319, 6, 324, 673, 73, 829, 291, 410, 781, 84, 680, 23, 693, 552, 604, 319, 952, 756, 158]\n"
     ]
    }
   ],
   "source": [
    "random_numbers = [random.randint(1, 1000) for _ in range(100)]\n",
    "print(\"Original List:\")\n",
    "print(random_numbers)\n"
   ]
  },
  {
   "cell_type": "code",
   "execution_count": 10,
   "id": "06e5ff04-6670-4911-a275-04d919fa2c85",
   "metadata": {},
   "outputs": [],
   "source": [
    "numbers_rdd = sc.parallelize(random_numbers)"
   ]
  },
  {
   "cell_type": "code",
   "execution_count": 11,
   "id": "c5426f71-bb67-4685-a1d6-4053dea18972",
   "metadata": {},
   "outputs": [],
   "source": [
    "even_numbers_rdd = numbers_rdd.filter(lambda x: x % 2 == 0)"
   ]
  },
  {
   "cell_type": "code",
   "execution_count": 12,
   "id": "0bcf9ef6-1872-48ea-b194-cdb71f471683",
   "metadata": {},
   "outputs": [
    {
     "name": "stdout",
     "output_type": "stream",
     "text": [
      "\n",
      "Even Numbers:\n",
      "[78, 540, 442, 326, 828, 310, 530, 208, 796, 810, 646, 646, 724, 704, 744, 376, 738, 412, 292, 354, 962, 766, 302, 200, 670, 348, 116, 414, 710, 916, 6, 534, 128, 668, 406, 730, 12, 32, 728, 490, 998, 824, 324, 958, 802, 6, 324, 410, 84, 680, 552, 604, 952, 756, 158]\n"
     ]
    }
   ],
   "source": [
    "even_numbers = even_numbers_rdd.collect()\n",
    "print(\"\\nEven Numbers:\")\n",
    "print(even_numbers)"
   ]
  },
  {
   "cell_type": "markdown",
   "id": "512d3417-d68b-4ad5-aad3-dff6e11e0df1",
   "metadata": {},
   "source": [
    "Conclusion:\n",
    "The program successfully demonstrates the use of PySpark RDD operations such as parallelize(), filter(), and collect(). By applying a filter function (lambda x: x % 2 == 0), the application efficiently extracts even numbers from the dataset. This illustrates how Spark can handle distributed data processing and transformation tasks in an easy and scalable way."
   ]
  }
 ],
 "metadata": {
  "kernelspec": {
   "display_name": "Python 3 (ipykernel)",
   "language": "python",
   "name": "python3"
  },
  "language_info": {
   "codemirror_mode": {
    "name": "ipython",
    "version": 3
   },
   "file_extension": ".py",
   "mimetype": "text/x-python",
   "name": "python",
   "nbconvert_exporter": "python",
   "pygments_lexer": "ipython3",
   "version": "3.10.9"
  }
 },
 "nbformat": 4,
 "nbformat_minor": 5
}
