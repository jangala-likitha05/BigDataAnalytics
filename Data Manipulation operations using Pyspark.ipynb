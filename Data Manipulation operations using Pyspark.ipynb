{
 "cells": [
  {
   "cell_type": "markdown",
   "id": "2dc0f466-28cd-4901-831a-ee2790b4a2a4",
   "metadata": {},
   "source": [
    "Create a DataFrame in PySpark by reading data from a CSV file (students.csv) and explore its structure and contents, including performing data manipulation operations like selecting columns, filtering data, adding a new calculated column, sorting, and aggregation (grouping by gender)."
   ]
  },
  {
   "cell_type": "markdown",
   "id": "ff812cf6-63c5-4654-8684-b1783f87ae06",
   "metadata": {},
   "source": [
    "Dataset Overview\n",
    "\n",
    "The dataset is a CSV file named students.csv\n",
    "\n",
    "It contains the following fields:\n",
    "\n",
    "    ID – Unique identifier of the student\n",
    "    \n",
    "    Name – Student’s name\n",
    "    \n",
    "    Age – Age of the student\n",
    "    \n",
    "    Gender – Gender (M/F)\n",
    "    \n",
    "    Math – Marks scored in Mathematics\n",
    "    \n",
    "    Science – Marks scored in Science\n",
    "    \n",
    "    English – Marks scored in English"
   ]
  },
  {
   "cell_type": "code",
   "execution_count": 1,
   "id": "58629b6c-e08e-4b98-9de2-29c10bf824ce",
   "metadata": {},
   "outputs": [
    {
     "data": {
      "text/html": [
       "\n",
       "        <div>\n",
       "            <p><b>SparkContext</b></p>\n",
       "\n",
       "            <p><a href=\"http://LAPTOP-H4K3I3AN:4042\">Spark UI</a></p>\n",
       "\n",
       "            <dl>\n",
       "              <dt>Version</dt>\n",
       "                <dd><code>v4.0.1</code></dd>\n",
       "              <dt>Master</dt>\n",
       "                <dd><code>local[*]</code></dd>\n",
       "              <dt>AppName</dt>\n",
       "                <dd><code>PySparkShell</code></dd>\n",
       "            </dl>\n",
       "        </div>\n",
       "        "
      ],
      "text/plain": [
       "<SparkContext master=local[*] appName=PySparkShell>"
      ]
     },
     "execution_count": 1,
     "metadata": {},
     "output_type": "execute_result"
    }
   ],
   "source": [
    "sc"
   ]
  },
  {
   "cell_type": "code",
   "execution_count": 2,
   "id": "03379136-19c0-4b23-b12b-7b2e0d87912c",
   "metadata": {},
   "outputs": [],
   "source": [
    "from pyspark.sql import SparkSession\n",
    "from pyspark.sql.functions import col, avg, round, max\n",
    "# Initialize Spark Session\n",
    "spark = SparkSession.builder.appName(\"StudentsDataFrameExample\").getOrCreate()\n"
   ]
  },
  {
   "cell_type": "code",
   "execution_count": 4,
   "id": "b9773444-784d-4087-8a94-1c47624be0eb",
   "metadata": {},
   "outputs": [],
   "source": [
    "# Step 1: Read CSV file into DataFrame\n",
    "df = spark.read.csv(\"C:\\\\Users\\\\user\\\\Downloads\\\\students.csv\", header=True, inferSchema=True)"
   ]
  },
  {
   "cell_type": "code",
   "execution_count": 5,
   "id": "b0ce05cf-4cf4-4407-aae9-e532aad028c7",
   "metadata": {},
   "outputs": [
    {
     "name": "stdout",
     "output_type": "stream",
     "text": [
      "=== First 10 rows ===\n",
      "+---+-------+---+------+----+-------+-------+\n",
      "| id|   name|age|gender|math|science|english|\n",
      "+---+-------+---+------+----+-------+-------+\n",
      "|  1|  Alice| 20|     F|  66|     92|     44|\n",
      "|  2|    Bob| 20|     M|  82|     52|     77|\n",
      "|  3|Charlie| 22|     F|  43|     57|     76|\n",
      "|  4|  David| 19|     M|  95|     69|     46|\n",
      "|  5|    Eva| 19|     F|  62|     44|     96|\n",
      "|  6|  Frank| 22|     F|  70|     78|     94|\n",
      "|  7|  Grace| 24|     F|  67|     66|     93|\n",
      "|  8|  Henry| 21|     F|  53|     82|     60|\n",
      "|  9|    Ivy| 19|     M|  64|     52|     46|\n",
      "| 10|   Jack| 19|     F|  44|     59|     60|\n",
      "+---+-------+---+------+----+-------+-------+\n",
      "only showing top 10 rows\n"
     ]
    }
   ],
   "source": [
    "# Step 2: Explore dataset\n",
    "print(\"=== First 10 rows ===\")\n",
    "df.show(10)\n"
   ]
  },
  {
   "cell_type": "code",
   "execution_count": 6,
   "id": "861e39ca-d663-4618-86be-8590c7d669cf",
   "metadata": {},
   "outputs": [
    {
     "name": "stdout",
     "output_type": "stream",
     "text": [
      "=== Schema ===\n",
      "root\n",
      " |-- id: integer (nullable = true)\n",
      " |-- name: string (nullable = true)\n",
      " |-- age: integer (nullable = true)\n",
      " |-- gender: string (nullable = true)\n",
      " |-- math: integer (nullable = true)\n",
      " |-- science: integer (nullable = true)\n",
      " |-- english: integer (nullable = true)\n",
      "\n"
     ]
    }
   ],
   "source": [
    "print(\"=== Schema ===\")\n",
    "df.printSchema()"
   ]
  },
  {
   "cell_type": "code",
   "execution_count": 7,
   "id": "6aba2d23-1e9e-4f4e-99c6-946845a88751",
   "metadata": {},
   "outputs": [
    {
     "name": "stdout",
     "output_type": "stream",
     "text": [
      "=== Datatypes ===\n",
      "[('id', 'int'), ('name', 'string'), ('age', 'int'), ('gender', 'string'), ('math', 'int'), ('science', 'int'), ('english', 'int')]\n"
     ]
    }
   ],
   "source": [
    "print(\"=== Datatypes ===\")\n",
    "print(df.dtypes)\n"
   ]
  },
  {
   "cell_type": "markdown",
   "id": "fbc3b81a-7ad6-4632-887e-2fa410804a49",
   "metadata": {},
   "source": [
    "Conclusion:\n",
    "The program successfully demonstrated fundamental PySpark DataFrame operations on the student dataset. This included reading the CSV file, viewing the schema and summary statistics, selecting specific columns, filtering students based on age (≥21) and math score (≥70), calculating a new 'average' marks column, filtering and sorting students by their average marks (≥75), and finally, calculating and presenting the average marks (math, science, English, and overall) grouped by gender."
   ]
  }
 ],
 "metadata": {
  "kernelspec": {
   "display_name": "Python 3 (ipykernel)",
   "language": "python",
   "name": "python3"
  },
  "language_info": {
   "codemirror_mode": {
    "name": "ipython",
    "version": 3
   },
   "file_extension": ".py",
   "mimetype": "text/x-python",
   "name": "python",
   "nbconvert_exporter": "python",
   "pygments_lexer": "ipython3",
   "version": "3.10.9"
  }
 },
 "nbformat": 4,
 "nbformat_minor": 5
}
